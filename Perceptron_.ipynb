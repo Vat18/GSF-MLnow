{
  "nbformat": 4,
  "nbformat_minor": 0,
  "metadata": {
    "colab": {
      "name": "Perceptron .ipynb",
      "provenance": [],
      "authorship_tag": "ABX9TyNyJjIX1/QnVSc/BbY9D5AM",
      "include_colab_link": true
    },
    "kernelspec": {
      "name": "python3",
      "display_name": "Python 3"
    },
    "language_info": {
      "name": "python"
    }
  },
  "cells": [
    {
      "cell_type": "markdown",
      "metadata": {
        "id": "view-in-github",
        "colab_type": "text"
      },
      "source": [
        "<a href=\"https://colab.research.google.com/github/Vat18/GSF-MLnow/blob/main/Perceptron_.ipynb\" target=\"_parent\"><img src=\"https://colab.research.google.com/assets/colab-badge.svg\" alt=\"Open In Colab\"/></a>"
      ]
    },
    {
      "cell_type": "markdown",
      "metadata": {
        "id": "UCVQNKB3cwha"
      },
      "source": [
        "Date Created : May 23 , 2021\n",
        "Author : Vatsal Sharma\n"
      ]
    },
    {
      "cell_type": "code",
      "metadata": {
        "id": "hbLvPaocc7QD"
      },
      "source": [
        "#Train a model to learn table of 10.\n",
        " #Equation: 'y=10*x'"
      ],
      "execution_count": 3,
      "outputs": []
    },
    {
      "cell_type": "code",
      "metadata": {
        "colab": {
          "base_uri": "https://localhost:8080/",
          "height": 35
        },
        "id": "LZlUm8pkdrdd",
        "outputId": "b79dfe4f-50e0-4fba-830e-88c6275748cb"
      },
      "source": [
        "#Data Creation\n",
        "'''\n",
        "x=[0,1,2,3,4,5,6,7,8,....]\n",
        "y=[0,10,20,30,40,50,60,70,80,....]\n",
        "'''"
      ],
      "execution_count": 36,
      "outputs": [
        {
          "output_type": "execute_result",
          "data": {
            "application/vnd.google.colaboratory.intrinsic+json": {
              "type": "string"
            },
            "text/plain": [
              "'\\nx=[0,1,2,3,4,5,6,7,8,....]\\ny=[0,10,20,30,40,50,60,70,80,....]\\n'"
            ]
          },
          "metadata": {
            "tags": []
          },
          "execution_count": 36
        }
      ]
    },
    {
      "cell_type": "code",
      "metadata": {
        "colab": {
          "base_uri": "https://localhost:8080/"
        },
        "id": "2dhymAmEeEAE",
        "outputId": "c1395a89-e8ab-4c8c-c421-6f7fc0bb9a48"
      },
      "source": [
        "x=[i for i in range(21)]\n",
        "print(x)"
      ],
      "execution_count": 37,
      "outputs": [
        {
          "output_type": "stream",
          "text": [
            "[0, 1, 2, 3, 4, 5, 6, 7, 8, 9, 10, 11, 12, 13, 14, 15, 16, 17, 18, 19, 20]\n"
          ],
          "name": "stdout"
        }
      ]
    },
    {
      "cell_type": "code",
      "metadata": {
        "colab": {
          "base_uri": "https://localhost:8080/"
        },
        "id": "_BOo7gVseV-X",
        "outputId": "91236603-d6e6-4ceb-c8d9-ead17d24859a"
      },
      "source": [
        "y= [ i for i in range(10*20+1) if i%10==0]\n",
        "print(y)"
      ],
      "execution_count": 38,
      "outputs": [
        {
          "output_type": "stream",
          "text": [
            "[0, 10, 20, 30, 40, 50, 60, 70, 80, 90, 100, 110, 120, 130, 140, 150, 160, 170, 180, 190, 200]\n"
          ],
          "name": "stdout"
        }
      ]
    },
    {
      "cell_type": "code",
      "metadata": {
        "id": "hzFT_Ef0e4yT"
      },
      "source": [
        ""
      ],
      "execution_count": 38,
      "outputs": []
    },
    {
      "cell_type": "code",
      "metadata": {
        "id": "hNFNOBLJgude"
      },
      "source": [
        "def tempfun(x):\n",
        "  y=10*x\n",
        "  return y"
      ],
      "execution_count": 34,
      "outputs": []
    },
    {
      "cell_type": "code",
      "metadata": {
        "id": "t8s-83rLhL1m"
      },
      "source": [
        "#Approach 2 \n"
      ],
      "execution_count": 39,
      "outputs": []
    },
    {
      "cell_type": "code",
      "metadata": {
        "colab": {
          "base_uri": "https://localhost:8080/"
        },
        "id": "QUYYJ3-BiBpU",
        "outputId": "a231764c-34ca-464c-8aca-9fde6356db91"
      },
      "source": [
        "print(f'This is x: {x}')\n",
        "print(f'This is y: {y}')"
      ],
      "execution_count": 42,
      "outputs": [
        {
          "output_type": "stream",
          "text": [
            "This is x: [0, 1, 2, 3, 4, 5, 6, 7, 8, 9, 10, 11, 12, 13, 14, 15, 16, 17, 18, 19, 20]\n",
            "This is y: [0, 10, 20, 30, 40, 50, 60, 70, 80, 90, 100, 110, 120, 130, 140, 150, 160, 170, 180, 190, 200]\n"
          ],
          "name": "stdout"
        }
      ]
    },
    {
      "cell_type": "code",
      "metadata": {
        "id": "A_k56zM_hlQt"
      },
      "source": [
        "xTrain= x[:-5]\n",
        "yTrain=y[:-5]\n",
        "\n",
        "xTest=x[-5:]\n",
        "yTest=y[-5:]\n"
      ],
      "execution_count": 44,
      "outputs": []
    },
    {
      "cell_type": "code",
      "metadata": {
        "colab": {
          "base_uri": "https://localhost:8080/"
        },
        "id": "jWdomfY5jNWB",
        "outputId": "80519fe4-ec4c-4a50-b280-951e1fe21be0"
      },
      "source": [
        "xTest"
      ],
      "execution_count": 46,
      "outputs": [
        {
          "output_type": "execute_result",
          "data": {
            "text/plain": [
              "[16, 17, 18, 19, 20]"
            ]
          },
          "metadata": {
            "tags": []
          },
          "execution_count": 46
        }
      ]
    },
    {
      "cell_type": "code",
      "metadata": {
        "id": "hT5hTvLrjpJf"
      },
      "source": [
        "import tensorflow as tf\n",
        "from tensorflow import keras"
      ],
      "execution_count": 49,
      "outputs": []
    },
    {
      "cell_type": "code",
      "metadata": {
        "id": "H6baiAZ0ke_v"
      },
      "source": [
        "model=tf.keras.Sequential([ tf.keras.layers.Dense\n",
        "                           \n",
        "])"
      ],
      "execution_count": null,
      "outputs": []
    }
  ]
}